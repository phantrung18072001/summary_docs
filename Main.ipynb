{
 "cells": [
  {
   "cell_type": "markdown",
   "metadata": {},
   "source": [
    "# Import library"
   ]
  },
  {
   "cell_type": "code",
   "execution_count": 1,
   "metadata": {},
   "outputs": [],
   "source": [
    "import pickle\n",
    "import numpy as np\n",
    "from pyvi import ViTokenizer"
   ]
  },
  {
   "cell_type": "markdown",
   "metadata": {},
   "source": [
    "# Loading data"
   ]
  },
  {
   "cell_type": "code",
   "execution_count": 2,
   "metadata": {},
   "outputs": [],
   "source": [
    "#Load\n",
    "with open ('neg.pkl', 'rb') as fp:\n",
    "    contents = pickle.load(fp)"
   ]
  },
  {
   "cell_type": "code",
   "execution_count": 3,
   "metadata": {},
   "outputs": [],
   "source": [
    "#Pre-processing\n",
    "contents_parsed = []\n",
    "for content in contents[0:10]:\n",
    "    contents_parsed.append(content.lower().strip())"
   ]
  },
  {
   "cell_type": "code",
   "execution_count": 4,
   "metadata": {},
   "outputs": [
    {
     "name": "stdout",
     "output_type": "stream",
     "text": [
      "Nạn nhân được tìm thấy là máy trưởng tàu SEA BEE   Trưa 7/5, TS Lương Công Nhớ, Hiệu phó ĐH Hàng hải Việt Nam thông báo với VnExpress, người được tìm thấy sau vụ mất liên lạc của tàu SEA BEE tại vùng biển Trung Quốc là máy trưởng Đàm Cao Vân, sinh năm 1960, quê Hải Phòng.  Ngoài máy trưởng Vân, từ ngày 3/5 đến nay tàu cứu nạn DONGHAIJIU 169 của Trung tâm Cứu nạn Biển Đông Thượng Hải (Trung Quốc) vẫn chưa tìm thêm được nạn nhân nào, cũng chưa xác định tọa độ tàu gặp nạn. Ông Nhớ cho biết, chưa xác định được nguyên nhân tàu mất liên lạc. Theo thông báo của phía bạn, thời tiết lúc tàu phát tín hiệu cấp cứu rất bình thường, gió cấp 3-4.   Trong 23 thuyền viên gặp nạn, có 14 người quê Hải Phòng, còn lại quê Bắc Ninh, Nghệ An, Thanh Hoá, Hưng Yên, Hà Nội và 2 người chưa xác định quê quán. Cao tuổi nhất là thuyền viên Nguyễn Văn Bình, sinh năm 1955, quê Hải Phòng. Nhỏ tuổi nhất là Nguyễn Đình Dương, sinh năm 1985, quê Từ Liêm, Hà Nội.  Ông Nhớ cho hay, đến nay chưa thể nói SEA BEE mất tích vì chưa xác định được tọa độ. Điều này cũng được ông Hoàng Phú Dương, Giám đốc Bảo Việt Hải Phòng xác nhận, bởi chưa cơ quan nào tuyên bố mất tích, cũng chưa có xác nhận của nơi tàu đi và đến. SEA BEE xuất cảng Qinghuang Dao (Trung Quốc) ngày 1/5, theo lịch trình sẽ đến Manila (Philippines) ngày 6/5. Nhưng rời cảng được 1 ngày thì tàu mất liên lạc với chủ tàu là Công ty Vận tải biển Đông Long.  Ông Dương cho hay, SEA BEE được Bảo Việt Hải Phòng bảo hiểm với mức 2 triệu USD. Con tàu trọng tải 6.273 DWT này được đóng tại Nhật Bản năm 1980 và năm 2003, Công ty Đông Long đã mua lại. Hiện Đông Long cho Công ty Cryxtal Shipping của Hàn Quốc thuê định kỳ. Chiếc tàu được đăng kiểm tại Việt Nam và hiện vẫn còn hạn đăng kiểm.  Với trách nhiệm là cơ quan bảo hiểm cho cả tàu và toàn bộ 23 thuyền viên, ông Dương cho hay Bảo Việt đã thông báo cho Hội miền Tây nước Anh (một hội tái bảo hiểm mà Bảo Việt tham gia) để hội này thông báo cho các đại lý phối hợp với cơ quan chức năng tham gia tìm kiếm tàu cũng như thuyền viên gặp nạn.  Về việc chi trả bảo hiểm, ông Dương khẳng định, khi xác định được tàu và các thuyền viên mất tích hoàn toàn thì Bảo Việt Hải Phòng sẽ trả một lần cho gia đình nạn nhân với mức bảo hiểm trách nhiệm cao nhất - 25.000 USD/người.  Trong vòng 2 năm qua, ĐH Hàng hải đã mất đi nhiều thuyền viên. Ngày 20/1, tàu Tiên Phong của Hàn Quốc bị đắm trên vùng biển phía đông CHDCND Triều Tiên, làm thiệt mạng 6 thủy thủ Việt Nam. Trước đó, tháng 2/2004, chiếc tàu Duri cũng bị đắm khiến 18 thủy thủ của Việt Nam bị chết và mất tích.    \n"
     ]
    }
   ],
   "source": [
    "print(contents[3])"
   ]
  },
  {
   "cell_type": "code",
   "execution_count": 5,
   "metadata": {},
   "outputs": [
    {
     "name": "stdout",
     "output_type": "stream",
     "text": [
      "nạn nhân được tìm thấy là máy trưởng tàu sea bee   trưa 7/5, ts lương công nhớ, hiệu phó đh hàng hải việt nam thông báo với vnexpress, người được tìm thấy sau vụ mất liên lạc của tàu sea bee tại vùng biển trung quốc là máy trưởng đàm cao vân, sinh năm 1960, quê hải phòng.  ngoài máy trưởng vân, từ ngày 3/5 đến nay tàu cứu nạn donghaijiu 169 của trung tâm cứu nạn biển đông thượng hải (trung quốc) vẫn chưa tìm thêm được nạn nhân nào, cũng chưa xác định tọa độ tàu gặp nạn. ông nhớ cho biết, chưa xác định được nguyên nhân tàu mất liên lạc. theo thông báo của phía bạn, thời tiết lúc tàu phát tín hiệu cấp cứu rất bình thường, gió cấp 3-4.   trong 23 thuyền viên gặp nạn, có 14 người quê hải phòng, còn lại quê bắc ninh, nghệ an, thanh hoá, hưng yên, hà nội và 2 người chưa xác định quê quán. cao tuổi nhất là thuyền viên nguyễn văn bình, sinh năm 1955, quê hải phòng. nhỏ tuổi nhất là nguyễn đình dương, sinh năm 1985, quê từ liêm, hà nội.  ông nhớ cho hay, đến nay chưa thể nói sea bee mất tích vì chưa xác định được tọa độ. điều này cũng được ông hoàng phú dương, giám đốc bảo việt hải phòng xác nhận, bởi chưa cơ quan nào tuyên bố mất tích, cũng chưa có xác nhận của nơi tàu đi và đến. sea bee xuất cảng qinghuang dao (trung quốc) ngày 1/5, theo lịch trình sẽ đến manila (philippines) ngày 6/5. nhưng rời cảng được 1 ngày thì tàu mất liên lạc với chủ tàu là công ty vận tải biển đông long.  ông dương cho hay, sea bee được bảo việt hải phòng bảo hiểm với mức 2 triệu usd. con tàu trọng tải 6.273 dwt này được đóng tại nhật bản năm 1980 và năm 2003, công ty đông long đã mua lại. hiện đông long cho công ty cryxtal shipping của hàn quốc thuê định kỳ. chiếc tàu được đăng kiểm tại việt nam và hiện vẫn còn hạn đăng kiểm.  với trách nhiệm là cơ quan bảo hiểm cho cả tàu và toàn bộ 23 thuyền viên, ông dương cho hay bảo việt đã thông báo cho hội miền tây nước anh (một hội tái bảo hiểm mà bảo việt tham gia) để hội này thông báo cho các đại lý phối hợp với cơ quan chức năng tham gia tìm kiếm tàu cũng như thuyền viên gặp nạn.  về việc chi trả bảo hiểm, ông dương khẳng định, khi xác định được tàu và các thuyền viên mất tích hoàn toàn thì bảo việt hải phòng sẽ trả một lần cho gia đình nạn nhân với mức bảo hiểm trách nhiệm cao nhất - 25.000 usd/người.  trong vòng 2 năm qua, đh hàng hải đã mất đi nhiều thuyền viên. ngày 20/1, tàu tiên phong của hàn quốc bị đắm trên vùng biển phía đông chdcnd triều tiên, làm thiệt mạng 6 thủy thủ việt nam. trước đó, tháng 2/2004, chiếc tàu duri cũng bị đắm khiến 18 thủy thủ của việt nam bị chết và mất tích.\n"
     ]
    }
   ],
   "source": [
    "print(contents_parsed[3])"
   ]
  },
  {
   "cell_type": "markdown",
   "metadata": {},
   "source": [
    "# Sentences Tokenizer"
   ]
  },
  {
   "cell_type": "code",
   "execution_count": 6,
   "metadata": {},
   "outputs": [
    {
     "name": "stderr",
     "output_type": "stream",
     "text": [
      "[nltk_data] Downloading package punkt to\n",
      "[nltk_data]     C:\\Users\\Admin\\AppData\\Roaming\\nltk_data...\n",
      "[nltk_data]   Package punkt is already up-to-date!\n"
     ]
    },
    {
     "data": {
      "text/plain": [
       "True"
      ]
     },
     "execution_count": 6,
     "metadata": {},
     "output_type": "execute_result"
    }
   ],
   "source": [
    "import nltk\n",
    "nltk.download('punkt')"
   ]
  },
  {
   "cell_type": "code",
   "execution_count": 7,
   "metadata": {},
   "outputs": [],
   "source": [
    "sentences = nltk.sent_tokenize(contents_parsed[3])"
   ]
  },
  {
   "cell_type": "code",
   "execution_count": 8,
   "metadata": {},
   "outputs": [
    {
     "name": "stdout",
     "output_type": "stream",
     "text": [
      "['nạn nhân được tìm thấy là máy trưởng tàu sea bee   trưa 7/5, ts lương công nhớ, hiệu phó đh hàng hải việt nam thông báo với vnexpress, người được tìm thấy sau vụ mất liên lạc của tàu sea bee tại vùng biển trung quốc là máy trưởng đàm cao vân, sinh năm 1960, quê hải phòng.', 'ngoài máy trưởng vân, từ ngày 3/5 đến nay tàu cứu nạn donghaijiu 169 của trung tâm cứu nạn biển đông thượng hải (trung quốc) vẫn chưa tìm thêm được nạn nhân nào, cũng chưa xác định tọa độ tàu gặp nạn.', 'ông nhớ cho biết, chưa xác định được nguyên nhân tàu mất liên lạc.', 'theo thông báo của phía bạn, thời tiết lúc tàu phát tín hiệu cấp cứu rất bình thường, gió cấp 3-4.   trong 23 thuyền viên gặp nạn, có 14 người quê hải phòng, còn lại quê bắc ninh, nghệ an, thanh hoá, hưng yên, hà nội và 2 người chưa xác định quê quán.', 'cao tuổi nhất là thuyền viên nguyễn văn bình, sinh năm 1955, quê hải phòng.', 'nhỏ tuổi nhất là nguyễn đình dương, sinh năm 1985, quê từ liêm, hà nội.', 'ông nhớ cho hay, đến nay chưa thể nói sea bee mất tích vì chưa xác định được tọa độ.', 'điều này cũng được ông hoàng phú dương, giám đốc bảo việt hải phòng xác nhận, bởi chưa cơ quan nào tuyên bố mất tích, cũng chưa có xác nhận của nơi tàu đi và đến.', 'sea bee xuất cảng qinghuang dao (trung quốc) ngày 1/5, theo lịch trình sẽ đến manila (philippines) ngày 6/5.', 'nhưng rời cảng được 1 ngày thì tàu mất liên lạc với chủ tàu là công ty vận tải biển đông long.', 'ông dương cho hay, sea bee được bảo việt hải phòng bảo hiểm với mức 2 triệu usd.', 'con tàu trọng tải 6.273 dwt này được đóng tại nhật bản năm 1980 và năm 2003, công ty đông long đã mua lại.', 'hiện đông long cho công ty cryxtal shipping của hàn quốc thuê định kỳ.', 'chiếc tàu được đăng kiểm tại việt nam và hiện vẫn còn hạn đăng kiểm.', 'với trách nhiệm là cơ quan bảo hiểm cho cả tàu và toàn bộ 23 thuyền viên, ông dương cho hay bảo việt đã thông báo cho hội miền tây nước anh (một hội tái bảo hiểm mà bảo việt tham gia) để hội này thông báo cho các đại lý phối hợp với cơ quan chức năng tham gia tìm kiếm tàu cũng như thuyền viên gặp nạn.', 'về việc chi trả bảo hiểm, ông dương khẳng định, khi xác định được tàu và các thuyền viên mất tích hoàn toàn thì bảo việt hải phòng sẽ trả một lần cho gia đình nạn nhân với mức bảo hiểm trách nhiệm cao nhất - 25.000 usd/người.', 'trong vòng 2 năm qua, đh hàng hải đã mất đi nhiều thuyền viên.', 'ngày 20/1, tàu tiên phong của hàn quốc bị đắm trên vùng biển phía đông chdcnd triều tiên, làm thiệt mạng 6 thủy thủ việt nam.', 'trước đó, tháng 2/2004, chiếc tàu duri cũng bị đắm khiến 18 thủy thủ của việt nam bị chết và mất tích.']\n"
     ]
    }
   ],
   "source": [
    "print(sentences)"
   ]
  },
  {
   "cell_type": "markdown",
   "metadata": {},
   "source": [
    "# Sentences to vector"
   ]
  },
  {
   "cell_type": "code",
   "execution_count": 17,
   "metadata": {
    "scrolled": true
   },
   "outputs": [],
   "source": [
    "from gensim.models import KeyedVectors \n",
    "\n",
    "w2v = KeyedVectors.load_word2vec_format(\"vi.vec\")"
   ]
  },
  {
   "cell_type": "code",
   "execution_count": 18,
   "metadata": {},
   "outputs": [],
   "source": [
    "vocab = w2v.key_to_index"
   ]
  },
  {
   "cell_type": "code",
   "execution_count": 20,
   "metadata": {},
   "outputs": [],
   "source": [
    "X = []\n",
    "for sentence in sentences:\n",
    "    sentence = ViTokenizer.tokenize(sentence)\n",
    "    words = sentence.split(\" \")\n",
    "    sentence_vec = np.zeros((100))\n",
    "    for word in words:\n",
    "        if word in vocab:\n",
    "            sentence_vec+=w2v[word]\n",
    "    X.append(sentence_vec)"
   ]
  },
  {
   "cell_type": "code",
   "execution_count": 21,
   "metadata": {},
   "outputs": [],
   "source": [
    "from sklearn.cluster import KMeans\n",
    "\n",
    "n_clusters = 5\n",
    "kmeans = KMeans(n_clusters=n_clusters)\n",
    "kmeans = kmeans.fit(X)"
   ]
  },
  {
   "cell_type": "code",
   "execution_count": 22,
   "metadata": {},
   "outputs": [],
   "source": [
    "from sklearn.metrics import pairwise_distances_argmin_min\n",
    "\n",
    "avg = []\n",
    "for j in range(n_clusters):\n",
    "    idx = np.where(kmeans.labels_ == j)[0]\n",
    "    avg.append(np.mean(idx))\n",
    "closest, _ = pairwise_distances_argmin_min(kmeans.cluster_centers_, X)\n",
    "ordering = sorted(range(n_clusters), key=lambda k: avg[k])\n",
    "summary = ' '.join([sentences[closest[idx]] for idx in ordering])"
   ]
  },
  {
   "cell_type": "code",
   "execution_count": 23,
   "metadata": {},
   "outputs": [
    {
     "data": {
      "text/plain": [
       "'theo thông báo của phía bạn, thời tiết lúc tàu phát tín hiệu cấp cứu rất bình thường, gió cấp 3-4.   trong 23 thuyền viên gặp nạn, có 14 người quê hải phòng, còn lại quê bắc ninh, nghệ an, thanh hoá, hưng yên, hà nội và 2 người chưa xác định quê quán. điều này cũng được ông hoàng phú dương, giám đốc bảo việt hải phòng xác nhận, bởi chưa cơ quan nào tuyên bố mất tích, cũng chưa có xác nhận của nơi tàu đi và đến. hiện đông long cho công ty cryxtal shipping của hàn quốc thuê định kỳ. ngày 20/1, tàu tiên phong của hàn quốc bị đắm trên vùng biển phía đông chdcnd triều tiên, làm thiệt mạng 6 thủy thủ việt nam. với trách nhiệm là cơ quan bảo hiểm cho cả tàu và toàn bộ 23 thuyền viên, ông dương cho hay bảo việt đã thông báo cho hội miền tây nước anh (một hội tái bảo hiểm mà bảo việt tham gia) để hội này thông báo cho các đại lý phối hợp với cơ quan chức năng tham gia tìm kiếm tàu cũng như thuyền viên gặp nạn.'"
      ]
     },
     "execution_count": 23,
     "metadata": {},
     "output_type": "execute_result"
    }
   ],
   "source": [
    "summary"
   ]
  },
  {
   "cell_type": "code",
   "execution_count": null,
   "metadata": {},
   "outputs": [],
   "source": []
  }
 ],
 "metadata": {
  "kernelspec": {
   "display_name": "Python 3.10.5 64-bit",
   "language": "python",
   "name": "python3"
  },
  "language_info": {
   "codemirror_mode": {
    "name": "ipython",
    "version": 3
   },
   "file_extension": ".py",
   "mimetype": "text/x-python",
   "name": "python",
   "nbconvert_exporter": "python",
   "pygments_lexer": "ipython3",
   "version": "3.10.5"
  },
  "vscode": {
   "interpreter": {
    "hash": "369f2c481f4da34e4445cda3fffd2e751bd1c4d706f27375911949ba6bb62e1c"
   }
  }
 },
 "nbformat": 4,
 "nbformat_minor": 2
}
